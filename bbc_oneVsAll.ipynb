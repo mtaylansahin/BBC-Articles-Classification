{
 "cells": [
  {
   "cell_type": "code",
   "execution_count": 1,
   "metadata": {},
   "outputs": [],
   "source": [
    "import sqlite3\n",
    "import numpy as np\n",
    "import pandas as pd\n",
    "import nltk\n",
    "\n",
    "from utils import process_article, build_freqs"
   ]
  },
  {
   "cell_type": "code",
   "execution_count": 2,
   "metadata": {},
   "outputs": [
    {
     "name": "stderr",
     "output_type": "stream",
     "text": [
      "[nltk_data] Downloading package stopwords to\n",
      "[nltk_data]     C:\\Users\\mtayl\\AppData\\Roaming\\nltk_data...\n",
      "[nltk_data]   Package stopwords is already up-to-date!\n"
     ]
    }
   ],
   "source": [
    "nltk.download('stopwords')\n",
    "conn = sqlite3.connect('Database\\\\bbcdb.sqlite')\n",
    "cur = conn.cursor()"
   ]
  },
  {
   "cell_type": "code",
   "execution_count": 3,
   "metadata": {},
   "outputs": [],
   "source": [
    "cur.execute(\"SELECT content FROM Article WHERE category_id=1\") # business category\n",
    "all_business = cur.fetchmany(350)\n",
    "all_business = [all_business[i][0] for i in range(len(all_business))]\n",
    "\n",
    "cur.execute(\"SELECT content FROM Article WHERE category_id=2\") # entertainment category\n",
    "all_entertainment = cur.fetchmany(350)\n",
    "all_entertainment = [all_entertainment[i][0] for i in range(len(all_entertainment))]\n",
    "\n",
    "cur.execute(\"SELECT content FROM Article WHERE category_id=3\") # politics category\n",
    "all_politics = cur.fetchmany(350)\n",
    "all_politics = [all_politics[i][0] for i in range(len(all_politics))]\n",
    "\n",
    "cur.execute(\"SELECT content FROM Article WHERE category_id=4\") # sport category\n",
    "all_sport = cur.fetchmany(350)\n",
    "all_sport = [all_sport[i][0] for i in range(len(all_sport))]\n",
    "\n",
    "cur.execute(\"SELECT content FROM Article WHERE category_id=5\") # tech category\n",
    "all_tech = cur.fetchmany(350)\n",
    "all_tech = [all_tech[i][0] for i in range(len(all_tech))]\n",
    "\n",
    "conn.close()"
   ]
  },
  {
   "cell_type": "code",
   "execution_count": 4,
   "metadata": {},
   "outputs": [
    {
     "name": "stdout",
     "output_type": "stream",
     "text": [
      "33\n"
     ]
    }
   ],
   "source": [
    "# split the data into two pieces, one for training and one for testing (validation set) \n",
    "test_bus = all_business[300:]\n",
    "train_bus = all_business[:300]\n",
    "\n",
    "test_ent = all_entertainment[300:]\n",
    "train_ent = all_entertainment[:300]\n",
    "\n",
    "test_pol = all_politics[300:]\n",
    "train_pol = all_politics[:300]\n",
    "\n",
    "test_spr = all_sport[300:]\n",
    "train_spr = all_sport[:300]\n",
    "\n",
    "test_tch = all_tech[300:]\n",
    "train_tch = all_tech[:300]\n",
    "print(len(test_tch))\n",
    "train_x = train_bus + train_ent + train_pol + train_spr + train_tch \n",
    "test_x = test_bus + test_ent + test_pol + test_spr + test_tch\n",
    "\n",
    "train_y = np.append(np.ones((len(train_bus), 1)), 2*np.ones((len(train_ent), 1)), axis=0)\n",
    "train_y = np.append(train_y, 3*np.ones((len(train_pol), 1)), axis=0)\n",
    "train_y = np.append(train_y, 4*np.ones((len(train_spr), 1)), axis=0)\n",
    "train_y = np.append(train_y, 5*np.ones((len(train_tch), 1)), axis=0)\n",
    "\n",
    "test_y = np.append(np.ones((len(test_bus), 1)), 2*np.ones((len(test_ent), 1)), axis=0)\n",
    "test_y = np.append(test_y, 3*np.ones((len(test_pol), 1)), axis=0)\n",
    "test_y = np.append(test_y, 4*np.ones((len(test_spr), 1)), axis=0)\n",
    "test_y = np.append(test_y, 5*np.ones((len(test_tch), 1)), axis=0)"
   ]
  },
  {
   "cell_type": "code",
   "execution_count": 5,
   "metadata": {},
   "outputs": [
    {
     "name": "stdout",
     "output_type": "stream",
     "text": [
      "train_y.shape = (1500, 1)\n",
      "test_y.shape = (233, 1)\n"
     ]
    }
   ],
   "source": [
    "# Print the shape train and test sets\n",
    "print(\"train_y.shape = \" + str(train_y.shape))\n",
    "print(\"test_y.shape = \" + str(test_y.shape))"
   ]
  },
  {
   "cell_type": "code",
   "execution_count": 6,
   "metadata": {},
   "outputs": [
    {
     "name": "stdout",
     "output_type": "stream",
     "text": [
      "type(freqs) = <class 'dict'>\n",
      "len(freqs) = 38963\n"
     ]
    }
   ],
   "source": [
    "# create frequency dictionary\n",
    "freqs = build_freqs(train_x, train_y)\n",
    "\n",
    "# check the output\n",
    "print(\"type(freqs) = \" + str(type(freqs)))\n",
    "print(\"len(freqs) = \" + str(len(freqs.keys())))"
   ]
  },
  {
   "cell_type": "code",
   "execution_count": 7,
   "metadata": {},
   "outputs": [
    {
     "name": "stdout",
     "output_type": "stream",
     "text": [
      "This is an example of a business article: \n",
      " Quarterly profits at US media giant TimeWarner jumped 76% to $1.13bn (Â£600m) for the three months to December, from $639m year-earlier.\n",
      "\n",
      "The firm, which is now one of the biggest investors in Google, benefited from sales of high-speed internet connections and higher advert sales. TimeWarner said fourth quarter sales rose 2% to $11.1bn from $10.9bn. Its profits were buoyed by one-off gains which offset a profit dip at Warner Bros, and less users for AOL.\n",
      "\n",
      "Time Warner said on Friday that it now owns 8% of search-engine Google. But its own internet business, AOL, had has mixed fortunes. It lost 464,000 subscribers in the fourth quarter profits were lower than in the preceding three quarters. However, the company said AOL's underlying profit before exceptional items rose 8% on the back of stronger internet advertising revenues. It hopes to increase subscribers by offering the online service free to TimeWarner internet customers and will try to sign up AOL's existing customers for high-speed broadband. TimeWarner also has to restate 2000 and 2003 results following a probe by the US Securities Exchange Commission (SEC), which is close to concluding.\n",
      "\n",
      "Time Warner's fourth quarter profits were slightly better than analysts' expectations. But its film division saw profits slump 27% to $284m, helped by box-office flops Alexander and Catwoman, a sharp contrast to year-earlier, when the third and final film in the Lord of the Rings trilogy boosted results. For the full-year, TimeWarner posted a profit of $3.36bn, up 27% from its 2003 performance, while revenues grew 6.4% to $42.09bn. \"Our financial performance was strong, meeting or exceeding all of our full-year objectives and greatly enhancing our flexibility,\" chairman and chief executive Richard Parsons said. For 2005, TimeWarner is projecting operating earnings growth of around 5%, and also expects higher revenue and wider profit margins.\n",
      "\n",
      "TimeWarner is to restate its accounts as part of efforts to resolve an inquiry into AOL by US market regulators. It has already offered to pay $300m to settle charges, in a deal that is under review by the SEC. The company said it was unable to estimate the amount it needed to set aside for legal reserves, which it previously set at $500m. It intends to adjust the way it accounts for a deal with German music publisher Bertelsmann's purchase of a stake in AOL Europe, which it had reported as advertising revenue. It will now book the sale of its stake in AOL Europe as a loss on the value of that stake.\n",
      "\n",
      "This is an example of the processed version of the article: \n",
      " ['quarterli', 'profit', 'us', 'media', 'giant', 'timewarn', 'jump', '76', '1.13', 'bn', 'â', '£', '600m', 'three', 'month', 'decemb', '639m', 'year-earli', 'firm', 'one', 'biggest', 'investor', 'googl', 'benefit', 'sale', 'high-spe', 'internet', 'connect', 'higher', 'advert', 'sale', 'timewarn', 'said', 'fourth', 'quarter', 'sale', 'rose', '2', '11.1', 'bn', '10.9', 'bn', 'profit', 'buoy', 'one-off', 'gain', 'offset', 'profit', 'dip', 'warner', 'bro', 'less', 'user', 'aol', 'time', 'warner', 'said', 'friday', 'own', '8', 'search-engin', 'googl', 'internet', 'busi', 'aol', 'mix', 'fortun', 'lost', '464,000', 'subscrib', 'fourth', 'quarter', 'profit', 'lower', 'preced', 'three', 'quarter', 'howev', 'compani', 'said', \"aol'\", 'underli', 'profit', 'except', 'item', 'rose', '8', 'back', 'stronger', 'internet', 'advertis', 'revenu', 'hope', 'increas', 'subscrib', 'offer', 'onlin', 'servic', 'free', 'timewarn', 'internet', 'custom', 'tri', 'sign', \"aol'\", 'exist', 'custom', 'high-spe', 'broadband', 'timewarn', 'also', 'restat', '2000', '2003', 'result', 'follow', 'probe', 'us', 'secur', 'exchang', 'commiss', 'sec', 'close', 'conclud', 'time', \"warner'\", 'fourth', 'quarter', 'profit', 'slightli', 'better', 'analyst', 'expect', 'film', 'divis', 'saw', 'profit', 'slump', '27', '284m', 'help', 'box-offic', 'flop', 'alexand', 'catwoman', 'sharp', 'contrast', 'year-earli', 'third', 'final', 'film', 'lord', 'ring', 'trilog', 'boost', 'result', 'full-year', 'timewarn', 'post', 'profit', '3.36', 'bn', '27', '2003', 'perform', 'revenu', 'grew', '6.4', '42.09', 'bn', 'financi', 'perform', 'strong', 'meet', 'exceed', 'full-year', 'object', 'greatli', 'enhanc', 'flexibl', 'chairman', 'chief', 'execut', 'richard', 'parson', 'said', '2005', 'timewarn', 'project', 'oper', 'earn', 'growth', 'around', '5', 'also', 'expect', 'higher', 'revenu', 'wider', 'profit', 'margin', 'timewarn', 'restat', 'account', 'part', 'effort', 'resolv', 'inquiri', 'aol', 'us', 'market', 'regul', 'alreadi', 'offer', 'pay', '300m', 'settl', 'charg', 'deal', 'review', 'sec', 'compani', 'said', 'unabl', 'estim', 'amount', 'need', 'set', 'asid', 'legal', 'reserv', 'previous', 'set', '500m', 'intend', 'adjust', 'way', 'account', 'deal', 'german', 'music', 'publish', \"bertelsmann'\", 'purchas', 'stake', 'aol', 'europ', 'report', 'advertis', 'revenu', 'book', 'sale', 'stake', 'aol', 'europ', 'loss', 'valu', 'stake']\n"
     ]
    }
   ],
   "source": [
    "# test the preprocessing function\n",
    "print('This is an example of a business article: \\n', train_x[0])\n",
    "print('\\nThis is an example of the processed version of the article: \\n', process_article(train_x[0]))"
   ]
  },
  {
   "cell_type": "code",
   "execution_count": 8,
   "metadata": {},
   "outputs": [],
   "source": [
    "def sigmoid(z): \n",
    "    '''\n",
    "    Input:\n",
    "        z: is the input (can be a scalar or an array)\n",
    "    Output:\n",
    "        h: the sigmoid of z\n",
    "    '''\n",
    "    # Calculate the sigmoid of z\n",
    "    h = 1/(1 + np.exp(-z))\n",
    "    \n",
    "    return h"
   ]
  },
  {
   "cell_type": "code",
   "execution_count": 9,
   "metadata": {},
   "outputs": [],
   "source": [
    "def gradientDescent(x, y, theta, alpha, num_iters):\n",
    "    '''\n",
    "    Input:\n",
    "        x: matrix of features which is (m, n+1)\n",
    "        y: corresponding labels of the input matrix x, dimensions (m, 1)\n",
    "        theta: weight vector of dimension (n+1, 1)\n",
    "        alpha: learning rate\n",
    "        num_iters: number of iterations you want to train your model for\n",
    "    Output:\n",
    "        J: the final cost\n",
    "        theta: your final weight vector\n",
    "    Hint: you might want to print the cost to make sure that it is going down.\n",
    "    '''\n",
    "    # Get 'm', the number of rows in matrix x\n",
    "    m = x.shape[0]\n",
    "    \n",
    "    for i in range(0, num_iters):\n",
    "        \n",
    "        # Get z, the dot product of x and theta\n",
    "        z = np.dot(x, theta)\n",
    "        \n",
    "        # Get the sigmoid of z\n",
    "        h = sigmoid(z)\n",
    "        \n",
    "        # Calculate the cost function\n",
    "        J = (-1./m) * (np.dot(y.T, np.log(h)) + np.dot((1-y).T, np.log(1-h)))\n",
    "\n",
    "        # Update the weights theta\n",
    "        theta = theta - (alpha/m)*(np.dot(x.T, (h-y)))\n",
    "        \n",
    "    J = float(J)\n",
    "    return J, theta"
   ]
  },
  {
   "cell_type": "code",
   "execution_count": 10,
   "metadata": {},
   "outputs": [],
   "source": [
    "def extract_features(article, freqs, num_labels):\n",
    "    '''\n",
    "    Input: \n",
    "        article: a list of words for one article\n",
    "        freqs: a dictionary corresponding to the frequencies of each tuple (word, label)\n",
    "        num_labels: number of categories\n",
    "    Output:\n",
    "        x: a feature vector of dimension (1, num_labels+1)\n",
    "    '''\n",
    "    # process_article tokenizes, stems, and removes stopwords\n",
    "    word_l = process_article(article)\n",
    "    \n",
    "    # 3 elements in the form of a 1 x 3 vector\n",
    "    x = np.zeros((1, num_labels+1)) \n",
    "    \n",
    "    #bias term is set to 1\n",
    "    x[0,0] = 1\n",
    "    \n",
    "    # loop through each word in the list of words\n",
    "    for word in word_l:\n",
    "        \n",
    "        # increment the word count for the business label 1\n",
    "        x[0,1] += freqs.get((word, 1), 0)\n",
    "        \n",
    "        # increment the word count for the entertainment label 2\n",
    "        x[0,2] += freqs.get((word, 2), 0)\n",
    "        \n",
    "        # increment the word count for the politics label 3\n",
    "        x[0,3] += freqs.get((word, 3), 0)\n",
    "        \n",
    "        # increment the word count for the sport label 4\n",
    "        x[0,4] += freqs.get((word, 4), 0)\n",
    "        \n",
    "        # increment the word count for the tech label 5\n",
    "        x[0,5] += freqs.get((word, 5), 0)\n",
    "        \n",
    "    assert(x.shape == (1, num_labels+1))\n",
    "    return x"
   ]
  },
  {
   "cell_type": "code",
   "execution_count": 11,
   "metadata": {},
   "outputs": [],
   "source": [
    "def oneVsAll(X, y, num_labels, learning_rate, num_iter):\n",
    "    all_theta = np.zeros((num_labels, num_labels+1))\n",
    "    all_J = np.zeros((num_labels, 1))\n",
    "    \n",
    "    for c in range(1, num_labels+1):\n",
    "        temp_J, temp_theta = gradientDescent(X, (Y==c), np.zeros((num_labels+1, 1)), learning_rate, num_iter)\n",
    "        \n",
    "        all_J[c-1, 0] = temp_J\n",
    "        all_theta[c-1, :] = np.squeeze(temp_theta)\n",
    "        \n",
    "    return (all_J, all_theta)"
   ]
  },
  {
   "cell_type": "code",
   "execution_count": 12,
   "metadata": {},
   "outputs": [
    {
     "name": "stdout",
     "output_type": "stream",
     "text": [
      "The costs after training is  [[0.15024914]\n",
      " [0.17839946]\n",
      " [0.1555125 ]\n",
      " [0.11904593]\n",
      " [0.13080761]]\n",
      "The resulting matrix of weights is  [[-4.24621251e-08  5.34446703e-04 -2.44242869e-04 -1.05390548e-04\n",
      "  -2.32662137e-04 -1.44344486e-04]\n",
      " [-1.89568030e-08 -1.56818655e-04  4.98474717e-04 -5.51410419e-05\n",
      "  -2.09423430e-04 -1.34596644e-04]\n",
      " [-6.67037504e-08 -2.22835000e-04 -2.25295621e-04  4.50078565e-04\n",
      "  -2.20152574e-04 -1.84292229e-04]\n",
      " [ 9.37159550e-09 -1.53409589e-04 -1.84699714e-04 -6.53871960e-05\n",
      "   5.48781825e-04 -1.45497989e-04]\n",
      " [-8.50192179e-08 -2.20014681e-04 -2.43973098e-04 -1.71007979e-04\n",
      "  -2.71888083e-04  4.89575345e-04]]\n"
     ]
    }
   ],
   "source": [
    "# Collect the features 'x' and stack them into a matrix 'X'\n",
    "X = np.zeros((len(train_x), 6))\n",
    "for i in range(len(train_x)):\n",
    "    X[i, :] = extract_features(train_x[i], freqs, 5)\n",
    "\n",
    "# training labels corresponding to X\n",
    "Y = train_y\n",
    "\n",
    "# Apply gradient descent\n",
    "J, theta = oneVsAll(X, Y, 5, 1e-9, 1500)\n",
    "print(f\"The costs after training is \", J)\n",
    "print(f\"The resulting matrix of weights is \", theta)"
   ]
  },
  {
   "cell_type": "code",
   "execution_count": 13,
   "metadata": {},
   "outputs": [],
   "source": [
    "def predict_article(article, freqs, theta):\n",
    "    '''\n",
    "    Input: \n",
    "        tweet: a string\n",
    "        freqs: a dictionary corresponding to the frequencies of each tuple (word, label)\n",
    "        theta: (5,6) vector of weights\n",
    "    Output: \n",
    "        y_pred: the probability of a tweet being positive or negative\n",
    "    '''\n",
    "    \n",
    "    # Extract the features of the tweet and store it into x\n",
    "    x = extract_features(article, freqs, 5)\n",
    "    \n",
    "    # Make the prediction using x and theta\n",
    "    y_pred = sigmoid(np.dot(x, theta.T))\n",
    "    \n",
    "    return np.argmax(y_pred)+1"
   ]
  },
  {
   "cell_type": "code",
   "execution_count": 14,
   "metadata": {},
   "outputs": [
    {
     "data": {
      "text/plain": [
       "3"
      ]
     },
     "execution_count": 14,
     "metadata": {},
     "output_type": "execute_result"
    }
   ],
   "source": [
    "my_article = \"Tory leader Michael Howard has gone on the offensive in response to people questioning how a son of immigrants can propose asylum quotas. Mr Howard, whose parents fled the Nazi threat to come to the UK, says the claim would mean no-one from an immigrant family could become premier. His comments come in a BBC documentary called 'No More Mr Nasty'. TV presenter Anne Robinson said as home secretary he gave the impression he would \\\"like to kick your cat\\\". Ms Robinson, a friend of the Tory leader, also revealed that as a Cambridge student Mr Howard was \\\"much loved by women and he was a courteous and kind and rather dashing lover\\\" - although she denied having personal experience. \\\"I wasn't at Cambridge - and it's not personal experience - but I know people who were.\\\" Documentary maker Michael Cockerell was given behind-the-scenes access to Mr Howard for his film portrait. The Tory leader was asked about to respond to people who said that if there had there been a quota on immigration and asylum in the 1930s, his parents might not have been allowed into the country. He replies: \\\"What is the inference of that? \\\"That if you reach the view that you need to control immigration in the interests of the country you're not allowed to put a view forward if you happen to be descended from immigrants? \\\"That seems to me an absolutely extraordinary proposition? It would certainly mean no one from immigrant parents could be prime minister.\\\" Ms Robinson, who presents The Weakest Link tells Cockerell that she despaired at his hardline image when he was home secretary in John Major's government. \\\"I used to have to sit on my hands because he'd get on television and give a passable impression of someone who'd like to kick your cat or would put your baby in prison if he cried. I mean it was very, very Draconian.\\\" The film shows Mr Howard laughing at Rory Bremner's impression of him as Dracula, which he calls \\\"good fun\\\", apart from the serious falsehood of a comment suggesting he wants fewer black people in the UK. The film shows the private side of the Tory leader watching television at home or playing table tennis with his wife, ex-model Sandra. Asked if she enjoys a game of ping pong she confesses: \\\"Yeah, it would be more enjoyable if I could win occasionally too, but otherwise it's quite fun.\\\" Former Downing Street communications chief Alastair Campbell, now working on Labour's election campaign, says a \\\"touchy-feely\\\" image does not fit Mr Howard. He says Tony Blair was not worried by his opponents' early performance in their Commons clashes because Mr Howard lacked a \\\"big strategy\\\", including on issues like Iraq. The Tory leader brands such criticisms as \\\"absolutely rubbish\\\", arguing that he has been consistent on his support for the war but critical of Mr Blair's failure to tell the truth on intelligence. Former Tory chancellor Ken Clarke says Mr Howard has a bigger problem changing perceptions of the Tory party than his personal image. Mr Clarke says the party is improving and it is \\\"conceivable\\\" it could win the next election. But he adds: \\\"It has got to change itself a bit and broaden its appeal.\\\" - Michael Howard: No More Mr Nasty is being shown on BBC2 on Saturday 12 February at 2005 GMT.\"\n",
    "predict_article(my_article, freqs, theta)"
   ]
  },
  {
   "cell_type": "code",
   "execution_count": 15,
   "metadata": {},
   "outputs": [],
   "source": [
    "def test_logistic_regression(test_x, test_y, freqs, theta):\n",
    "    \"\"\"\n",
    "    Input: \n",
    "        test_x: a list of articles\n",
    "        test_y: (m, 1) vector with the corresponding labels for the list of articles\n",
    "        freqs: a dictionary with the frequency of each pair (or tuple)\n",
    "        theta: weight vector of dimension (3, 1)\n",
    "    Output: \n",
    "        accuracy: (# of tweets classified correctly) / (total # of articles)\n",
    "    \"\"\"\n",
    "    \n",
    "    # The list for storing predictions\n",
    "    y_hat = []\n",
    "    \n",
    "    for article in test_x:\n",
    "        # Get the label prediction for the article\n",
    "        y_pred = predict_article(article, freqs, theta)\n",
    "        \n",
    "        y_hat.append(y_pred)\n",
    "        \n",
    "    # With the above implementation, y_hat is a list, but test_y is (m,1) array\n",
    "    # Convert both to one-dimensional arrays in order to compare them using the '==' operator\n",
    "    accuracy = np.mean(np.asarray(y_hat) == np.squeeze(test_y))\n",
    "    \n",
    "    return accuracy"
   ]
  },
  {
   "cell_type": "code",
   "execution_count": 16,
   "metadata": {},
   "outputs": [
    {
     "name": "stdout",
     "output_type": "stream",
     "text": [
      "Logistic regression model's accuracy = 0.9742\n"
     ]
    }
   ],
   "source": [
    "tmp_accuracy = test_logistic_regression(test_x, test_y, freqs, theta)\n",
    "print(f\"Logistic regression model's accuracy = {tmp_accuracy:.4f}\")"
   ]
  },
  {
   "cell_type": "code",
   "execution_count": 17,
   "metadata": {},
   "outputs": [
    {
     "name": "stdout",
     "output_type": "stream",
     "text": [
      "Label Predicted Article\n",
      "THE ARTICLE IS:\n",
      " The Brazilian government has played down claims that it could step in to save the country's biggest airline.\n",
      "\n",
      "Brazil's airport authority chief Carlos Wilson had claimed the government was on the brink of stepping in to save Varig, Brazil's flagship airline. However, the country's vice president Jose Alencar has said the government still is looking for a solution. Varig is struggling under a huge debt burden of an estimated debt of 6.5 billion reais ($2.3bn or Â£1.2bn). Asked whether a rescue was on the cards following a meeting of the country's Congress to discuss the airline's crisis, Mr Alencar replied: \"No, I don't think so. We will see.\"\n",
      "\n",
      "Earlier, Mr Wilson had said that president Luiz Inacio Lula da Silva has decided to step in and a decree of some kind of intervention could be signed this week. \"In practice, it will be an intervention, although this is not the technical name used\", he said. An intervention means that the government would take administrative control of the company and its finances. For that to happen Varig's main shareholder, the non-profit Ruben Berta Foundation which represents the airline's employees, would have to be removed, Mr Wilson said. However, no jobs would be lost and the airline would keep on flying, he added. Varig, which operates in 18 countries apart from Brazil, has been driven to the brink of collapse because of the country's economic downturn.\n",
      "\n",
      "The depreciation of Brazil's currency has had a direct impact on the airline's dollar debt as well as some of its costs. Business has improved recently with demand for air travel increasing and a recovery in the Brazilian economy. The airline could also win a sizeable windfall from a compensation claim against the government. On Tuesday the courts awarded Varig 2bn reais ($725m), after ruling in favour of its compensation claim against the government for freezing tariffs from 1985 to 1992. But the government can appeal the decision.\n",
      "Label: 1\tGuess: 3\n",
      "\n",
      "\n",
      "THE ARTICLE IS:\n",
      " The French co-head of European defence and aerospace group EADS Philippe Camus is to leave his post.\n",
      "\n",
      "Mr Camus said in a statement that he has accepted the invitation to return full-time to the Lagardere group, which owns 30% of EADS. \"I will give up my role as soon as the board of directors asks me to do so,\" he said. Airbus head Noel Forgeard is now set to replace Mr Camus, bringing the company's power struggle to an end. Fighting between Mr Camus and Mr Forgeard has hit the headlines in France and analysts feared that this fighting could destabilise the defence and aerospace group. French finance minister Herve Gaymard is on record as saying that he \"deplored\" the infighting at the company. The company should now be able put this dispute behind it, with the departure of Mr Camus and with the clear support given to Mr Forgeard by the Lagardere group, the main French shareholder of EADS. The other main shareholders of EADS are the French government (15%) , who also support Mr Forgeard, and Germany's DaimlerChrysler (30%). Rainer Hertrich, the German co-head of EADS will also step down when his contract expires next year.\n",
      "\n",
      "Mr Camus recently came under pressure as it became clear that the A380 superjumbo was running over budget. EADS - Airbus' majority owner - admitted earlier this week that the project was running 1.45bn euros (Â£1bn; $1.9bn) over budget. But Mr Forgeard has denied this, telling French media that there is no current overrun in the budget. \"But for the sake of transparency, we told our shareholders last week that if we look at the forecast for total costs of the project up to 2010, there is a risk that we will go over by around 10%, which is about 1bn euros (Â£686m; $1.32bn),\" he told France's LCI Television. Due to enter service in 2006, the A380 will replace the Boeing 747 jumbo as the world's biggest passenger aircraft.\n",
      "Label: 1\tGuess: 3\n",
      "\n",
      "\n",
      "THE ARTICLE IS:\n",
      " Actress Nicole Kidman has won a restraining order against two paparazzi photographers who she claims left her fearful of leaving her Sydney mansion.\n",
      "\n",
      "The Oscar-winning star took action against Jamie Fawcett and Ben McDonald after a bugging device was found outside her home earlier this week. Lawyers for the pair denied allegations they had planted the device. The Australian actress is currently in Sydney to film her latest movie, Eucalyptus, with Russell Crowe. Kidman was prompted to take action following a reported high-speed car chase with members of the paparazzi in Sydney last weekend.\n",
      "\n",
      "According to local newspaper the Daily Telegraph, the incident involved paparazzi driving through red lights and on the wrong side of the road in pursuit of Kidman's vehicle. Lawyers for Mr Fawcett and Mr McDonald denied that the pair were involved in the chase. Kidman sought the \"apprehended violence\" orders - normally used in Australia in cases of domestic violence and similar incidents - after being advised to do so by local police. \"Nicole would like to make it clear that she acknowledges she is a public figure and that reporters and photographers have a job to do and she respects that,\" said Kidman's publicist Wendy Day. \"However, these are specific actions against two individuals who, over a period of time, have caused her to feel threatened, intimidated and unable to leave her home without fearing for her safety.\" Magistrate Lee Gilmore, who issued the restraining order at Waverley Local Court in Sydney, said she understood the photographers were entitled to earn a living but there had to be limits to their behaviour. \"Miss Kidman says she's willing to put up with some of it, but it's gone beyond that,\" she said. \"I do believe the allegation in relation to the driving is a serious issue.\"\n",
      "Label: 2\tGuess: 3\n",
      "\n",
      "\n",
      "THE ARTICLE IS:\n",
      " The rewards of leaving front-bench politics are shown in the latest annual register of members' interests.\n",
      "\n",
      "The register shows former Tory leader William Hague earning up to Â£820,000 on top of his MPs' salary, much of it from speaking fees. His former shadow chancellor Michael Portillo makes up to Â£560,000 a year - partly because of speeches and TV work. Ex-health secretary Alan Milburn earned up to Â£85,000 from speeches, articles and advice while not in the Cabinet.\n",
      "\n",
      "Mr Milburn was away from the frontbench for just more than a year between stepping down as health secretary and becoming Labour's election supremo. His declared interests include Â£20,000 from newspaper articles and fees of up to Â£35,000 for four speeches. He also commanded a salary of between Â£25,000 and Â£35,000 for being on investment company Bridgepoint Capital's European advisory committee. His time out of office will, however, have lost him his Â£71,433 minister's salary. Mr Hague's work outside Parliament included two one-man shows, which with other speaking fees netted him up to Â£480,000. He also earned up to Â£195,000 for a weekly column in the News of the World, and between Â£5,000 and Â£10,000 for presenting BBC'2's Have I Got News for You. Mr Hague was also paid an undisclosed amount for the newspaper serialisation of his biography of William Pitt the Younger and up to Â£135,00 for work as an adviser to various companies.\n",
      "\n",
      "Former Defence Secretary Michael Portillo makes some of his money as a non-executive director of BAE Systems. He is to stand down as an MP at the next election. And former Foreign Secretary Robin Cook was paid between Â£45,001 and Â£50,000 for the paperback edition of his book about his resignation from government. His declared income of up to Â£205,000 also includes payments for being a consultant to the Tote and for his regular column in the Guardian newspaper. The register also shows former Home Office Minister Ann Widdecombe declaring a Â£100,000 advance for her third and fourth novels. She also received up to Â£30,000 for acting as the Guardian's agony aunt and between Â£5,001 and Â£10,000 for appearing on ITV's Celebrity Fit Club. David Blunkett has become a paid adviser to Indepen Consulting Limited now he is not home secretary - he helps them with seminars about the relationship between government and business. He earns between Â£5,001and Â£10,000 for the work.\n",
      "\n",
      "Tony Blair's entry confirms that King Abdullah of Jordan paid for him to fly from a holiday in Egypt to official discussions - and for a sightseeing tour to Wadi Rum. Tory leader Michael Howard's only fresh entry is a Christmas hamper from the Sultan of Brunei. He also declares a trip to Mexico last year to address executives of News International, and helicopter and private jet travel paid for by supporters. Liberal Democrat leader Charles Kennedy registered donations to his office from supporters, a free ticket to last year's Bafta awards and rent from a single-bedroom flat in London. The register only contains new information for December 2004 - but Monday saw the publication of the annual review of the register, with the year's details. The payments are shown in bands of up Â£5,000, making it difficult to calculate the exact earnings.\n",
      "Label: 3\tGuess: 1\n",
      "\n",
      "\n",
      "THE ARTICLE IS:\n",
      " The Labour Party received more than Â£5m in donations in the final quarter of 2004, new figures show.\n",
      "\n",
      "This is nearly half of the Â£11,724,929 received by 16 political parties listed by the Electoral Commission. The Conservatives were in second place with donations totalling Â£4,610,849, while the Liberal Democrats received just over Â£1m. The majority of Labour's donations came from affiliated trade unions. There were also large sums from individuals. Lord Drayson, whose company PowderJect won multi-million pound contracts to provide smallpox vaccine to the government after the 11 September terror attacks, gave Â£500,000 to the party just days before Christmas.\n",
      "\n",
      "This followed an earlier donation of the same amount earlier in 2004. He was made a lord by Tony Blair last year. Other significant donations came from retired millionaire businessman and philanthropist Sir Christopher Ondaatje who gave the party a sum of Â£500,000, and refrigerator magnate William Haughey OBE who gave Â£330,000. The totals for the fourth quarter were well up on the same period of 2003, as the parties built up their war chests for the general election campaign. The largest donation to the Conservatives was a bequest from Ruth Beardmore of nearly Â£400,000. The joint founder of merchant bank Hambro Magan gave Â£325,417. There were also donations topping Â£250,000 for the Conservatives from Scottish Business Groups Focus on Scotland and the Institute of International Research, the world's largest independent conference company.\n",
      "\n",
      "Also among the gifts to the Tories were 24 donations totalling Â£161,840 from Bearwood Corporate Services. This company is controlled by the party's former treasurer Lord Ashcroft which has directed almost Â£300,000 to specific marginal constituencies over the past two years. The Liberal Democrats' largest donor was the Joseph Rowntree Reform Trust Ltd, a company which promotes political reform and constitutional change, which gave a sum of Â£250,000. And fast food giants McDonald's are listed as donating a sum of Â£10,575. This was a fee the firm paid for a room for an event held with the work and skills foundation during the party's conference. The UK Independence Party, which lost its main donor Paul Sykes amid the row over Robert Kilroy-Silk's bid for the leadership last autumn, took in Â£63,081. Just Â£8,170 of this was cash and the remainder came in gifts in kind, such as office space and printing. Registered political parties are required to set out each quarter all donations over Â£5,000 to their headquarters and over Â£1,000 to local constituency parties they receive. It is an offence for a person to knowingly or recklessly make a false declaration about party donations.\n",
      "Label: 3\tGuess: 1\n",
      "\n",
      "\n"
     ]
    },
    {
     "name": "stdout",
     "output_type": "stream",
     "text": [
      "THE ARTICLE IS:\n",
      " The net's self-declared spam king is seeking bankruptcy protection.\n",
      "\n",
      "Scott Richter, the man behind OptInRealBig.com and billions of junk mail messages, said lawsuits had forced the company into Chapter 11. OptInRealBig was fighting several legal battles, most notably against Microsoft, which is pushing for millions of dollars in damages. The company said filing for Chapter 11 would help it try to resolve its legal problems but still keep trading.\n",
      "\n",
      "Listed as the third biggest spammer in the world by junk mail watchdog Spamhaus, OptInRealBig was sued in December 2003 for sending mail messages that violated anti-spam laws. The lawsuit was brought by Microsoft and New York attorney general Eliot Spitzer who alleged that Mr Richter and his accomplices sent billions of spam messages through 514 compromised net addresses in 35 countries. According to Microsoft the messages were sent via net addresses owned by the Kuwait Ministries of Communication and Finance, several Korean schools, the Seoul Municipal Boramae Hospital, and the Virginia Community College System. Mr Richter settled the attorney general case in July 2004 but the legal fight with Microsoft is continuing. Microsoft is seeking millions in dollars in damages from OptInRealBig under anti-spam laws that impose penalties for every violation. In a statement announcing the desire to seek bankruptcy protection the company said it: \"could not continue to contend with legal maneuvers (sic) by a number of companies across the country, including Microsoft, and still run a viable business.\" In its Chapter 11 filing OptInRealBig claimed it had assets of less than $10m (Â£5.29m) but debts of more than $50m which included the $46m that Microsoft is seeking via its lawsuit. \"The litigation has been a relentless distraction with which to contend,\" said Steven Richter, legal counsel for OptInRealBig. \"But, make no mistake, we do expect to prevail.\" For its part OptInRealBig describes itself as a premier internet marketing company and said the move to seek Chapter 11 was necessary to let it keep trading while sorting out its legal battles.\n",
      "Label: 5\tGuess: 1\n",
      "\n",
      "\n"
     ]
    }
   ],
   "source": [
    "# Some error analysis done here\n",
    "print('Label Predicted Article')\n",
    "for x,y in zip(test_x,test_y):\n",
    "    y_hat = predict_article(x, freqs, theta)\n",
    "\n",
    "    if np.abs(y - y_hat) > 0:\n",
    "        print('THE ARTICLE IS:\\n', x)\n",
    "        print('Label: %d\\tGuess: %d\\n\\n' % (y, y_hat))"
   ]
  },
  {
   "cell_type": "code",
   "execution_count": 20,
   "metadata": {},
   "outputs": [
    {
     "name": "stdout",
     "output_type": "stream",
     "text": [
      "Entertainment\n"
     ]
    }
   ],
   "source": [
    "my_article = '''\n",
    "(CNN)The Oscar nominations reflect the breadth of quality work produced and released in what was by any measure a difficult, terrible year for the movie industry. Viewers can now flock to the streaming services of their choice to see whether they think the voters got it right.\n",
    "\n",
    "Therein lies the challenge for the producers of this year's awards, after a stretch that has already seen the Emmys and Golden Globes sink to record-low ratings. It has left producers of the ceremony in what looks like a difficult bind -- with no theatrical blockbusters to help drive interest in the ceremony -- but also with an opportunity, if they embrace the freedom that should come with diminished viewership expectations and having little to lose.\n",
    "In the past, the Academy of Motion Picture Arts and Sciences, which presents the awards, has collectively exhibited mixed feelings about Netflix's role in the movie industry's marquee event, unable to clearly decide if streaming was friend or foe. The effects of the pandemic -- and the related shift toward home viewing -- essentially pushed the Academy into Netflix's waiting arms.\n",
    "All told, the service amassed a best-ever 35 nominations, more than any other single entity. That included two of the eight best picture nominees, a pair of historical dramas in \"Mank\" and \"The Trial of the Chicago 7,\" and six of the 20 acting bids.\n",
    "Netflix, of course, wasn't alone, with streamers like Amazon (with a dozen total), Hulu and Disney+ all leaving their mark on the roster of contenders. In some instances, that recognition came for movies that were redirected from planned theatrical release to streaming, such as Hulu's \"Nomadland\" and Disney+'s \"Soul\" and \"Mulan.\"\n",
    "What that means for the Oscars in practical terms is unclear. Ratings for the awards have been trending downward due to a host of factors, but the off-a-cliff decline for the Golden Globes has only fed the sense that the appetite for such events has been greatly diminished by a year that shut movie theaters and blunted the celebratory aspects of live events.\n",
    "The Emmys, notably, charted a path for handing out awards despite coronavirus restrictions, a formula that the Globes largely botched. The Grammys recaptured some of the live experience with their performance-oriented ceremony on Sunday night.\n",
    "The Oscars have also outlined plans for a more in-person format, but even with the awards delayed until late April, the kind of massive gathering staged in the past won't be possible. And while viewers can access most nominees online, the fragmentation of the audience -- and diminished rooting interest that comes with it -- has been exacerbated by everything that has transpired since \"Parasite\" made history at the 2020 Oscars, in what feels like much longer than 13 months ago.\n",
    "Award shows, of course, exist for multiple reasons, which in their highest calling involves celebrating and encouraging admirable work. But they are also commercial endeavors, with practical implications built around getting people to watch, and broadcast fees that support the organizations behind them.\n",
    "The Grammys seemingly found a sweet spot, creatively speaking, in a more intimate ceremony that still showcased the nominees, which could point the way in terms of a workable model. But if the Academy and host network ABC haven't already resigned themselves to disappointing numbers even relative to even last year's record-low Oscars, perhaps they should. (Ratings for the Grammys declined about 53% between 2020 and 2021.)\n",
    "In a year where the Oscars have become mostly about streaming, there's not much left to do but go with the flow.\n",
    "'''\n",
    "pred = predict_article(my_article, freqs, theta)\n",
    "cats = ['Placeholder', 'Business', 'Entertainment', 'Politics', 'Sport', 'Technology']\n",
    "print(cats[pred])"
   ]
  },
  {
   "cell_type": "code",
   "execution_count": null,
   "metadata": {},
   "outputs": [],
   "source": []
  }
 ],
 "metadata": {
  "kernelspec": {
   "display_name": "Python 3 (ipykernel)",
   "language": "python",
   "name": "python3"
  },
  "language_info": {
   "codemirror_mode": {
    "name": "ipython",
    "version": 3
   },
   "file_extension": ".py",
   "mimetype": "text/x-python",
   "name": "python",
   "nbconvert_exporter": "python",
   "pygments_lexer": "ipython3",
   "version": "3.8.12"
  }
 },
 "nbformat": 4,
 "nbformat_minor": 2
}
